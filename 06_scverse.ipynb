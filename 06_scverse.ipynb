{
  "nbformat": 4,
  "nbformat_minor": 0,
  "metadata": {
    "colab": {
      "provenance": []
    },
    "kernelspec": {
      "name": "python3",
      "display_name": "Python 3"
    },
    "language_info": {
      "name": "python"
    }
  },
  "cells": [
    {
      "cell_type": "markdown",
      "source": [
        "# Workshop #5. Basics of `scanpy`"
      ],
      "metadata": {
        "id": "RrtSGMP32hrX"
      }
    },
    {
      "cell_type": "markdown",
      "source": [
        "Firstly, let's install necessary Python packages."
      ],
      "metadata": {
        "id": "UTOeqAl92p_I"
      }
    },
    {
      "cell_type": "code",
      "execution_count": null,
      "metadata": {
        "id": "POnS7QjV2bB9"
      },
      "outputs": [],
      "source": [
        "!pip install scanpy[leiden] scrublet\n",
        "!gdown \"1Ctq4EmV2ps1dMiFcbqW467ywezRSGGN0&confirm=t\"\n",
        "!unzip PBMC_10k.zip"
      ]
    },
    {
      "cell_type": "markdown",
      "source": [
        "## AnnData"
      ],
      "metadata": {
        "id": "l4reV5zB2tnL"
      }
    },
    {
      "cell_type": "code",
      "source": [
        "import scanpy as sc\n",
        "import seaborn as sns\n",
        "import numpy as np\n",
        "\n",
        "# `verbosity = 3` means show every log message\n",
        "sc.settings.verbosity = 3"
      ],
      "metadata": {
        "id": "c4oQouqf2ui_"
      },
      "execution_count": null,
      "outputs": []
    },
    {
      "cell_type": "code",
      "source": [
        "# Reading the dataset\n",
        "\n",
        "adata = sc.read_10x_h5(\"filtered_feature_bc_matrix.h5\")"
      ],
      "metadata": {
        "id": "rkO0YkLSveOL",
        "colab": {
          "base_uri": "https://localhost:8080/"
        },
        "outputId": "9cd9832c-a93b-42da-c27b-27ff89a34dfd"
      },
      "execution_count": null,
      "outputs": [
        {
          "output_type": "stream",
          "name": "stdout",
          "text": [
            "reading filtered_feature_bc_matrix.h5\n",
            " (0:00:01)\n"
          ]
        },
        {
          "output_type": "stream",
          "name": "stderr",
          "text": [
            "/usr/local/lib/python3.10/dist-packages/anndata/_core/anndata.py:1820: UserWarning: Variable names are not unique. To make them unique, call `.var_names_make_unique`.\n",
            "  utils.warn_names_duplicates(\"var\")\n",
            "/usr/local/lib/python3.10/dist-packages/anndata/_core/anndata.py:1820: UserWarning: Variable names are not unique. To make them unique, call `.var_names_make_unique`.\n",
            "  utils.warn_names_duplicates(\"var\")\n"
          ]
        }
      ]
    },
    {
      "cell_type": "code",
      "source": [
        "# Make gene names unique\n",
        "\n",
        "adata.var_names_make_unique()"
      ],
      "metadata": {
        "id": "dmeLv1wl3Obe"
      },
      "execution_count": null,
      "outputs": []
    },
    {
      "cell_type": "code",
      "source": [
        "# Expression matrix\n",
        "\n",
        "adata.X"
      ],
      "metadata": {
        "colab": {
          "base_uri": "https://localhost:8080/"
        },
        "id": "lmj9GfXh2RpB",
        "outputId": "7f737e5c-01a6-4460-e6f8-1c99bfff9c1a"
      },
      "execution_count": null,
      "outputs": [
        {
          "output_type": "execute_result",
          "data": {
            "text/plain": [
              "<11996x36601 sparse matrix of type '<class 'numpy.float32'>'\n",
              "\twith 27164608 stored elements in Compressed Sparse Row format>"
            ]
          },
          "metadata": {},
          "execution_count": 4
        }
      ]
    },
    {
      "cell_type": "code",
      "source": [
        "# Sparse to dense matrix transformation\n",
        "\n",
        "adata.X.A"
      ],
      "metadata": {
        "colab": {
          "base_uri": "https://localhost:8080/"
        },
        "id": "jgVAH0RG2ZXT",
        "outputId": "e5a32516-a279-4546-c6e6-7968c39e08df"
      },
      "execution_count": null,
      "outputs": [
        {
          "output_type": "execute_result",
          "data": {
            "text/plain": [
              "array([[0., 0., 0., ..., 0., 0., 0.],\n",
              "       [0., 0., 0., ..., 0., 0., 0.],\n",
              "       [0., 0., 0., ..., 0., 0., 0.],\n",
              "       ...,\n",
              "       [0., 0., 0., ..., 0., 0., 0.],\n",
              "       [0., 0., 0., ..., 0., 0., 0.],\n",
              "       [0., 0., 0., ..., 0., 0., 0.]], dtype=float32)"
            ]
          },
          "metadata": {},
          "execution_count": 89
        }
      ]
    },
    {
      "cell_type": "code",
      "source": [
        "# Dense to sparse matrix transformation\n",
        "\n",
        "from scipy.sparse import csr_matrix\n",
        "\n",
        "X = np.array([[0, 1], [0, 0]])\n",
        "X"
      ],
      "metadata": {
        "colab": {
          "base_uri": "https://localhost:8080/"
        },
        "id": "YVxAMKeLLRia",
        "outputId": "ccfb410c-99dc-40f1-b660-901607250812"
      },
      "execution_count": null,
      "outputs": [
        {
          "output_type": "execute_result",
          "data": {
            "text/plain": [
              "array([[0, 1],\n",
              "       [0, 0]])"
            ]
          },
          "metadata": {},
          "execution_count": 7
        }
      ]
    },
    {
      "cell_type": "code",
      "source": [
        "X_sparse = csr_matrix(X)\n",
        "X_sparse"
      ],
      "metadata": {
        "colab": {
          "base_uri": "https://localhost:8080/"
        },
        "id": "mMsBgr5zLaJY",
        "outputId": "c2a96a39-d0ec-4439-c203-0fff3d23c5b2"
      },
      "execution_count": null,
      "outputs": [
        {
          "output_type": "execute_result",
          "data": {
            "text/plain": [
              "<2x2 sparse matrix of type '<class 'numpy.int64'>'\n",
              "\twith 1 stored elements in Compressed Sparse Row format>"
            ]
          },
          "metadata": {},
          "execution_count": 9
        }
      ]
    },
    {
      "cell_type": "code",
      "source": [
        "# How to create AnnData manually\n",
        "\n",
        "my_matrix = np.array([[1, 2, 3], [4, 5, 6], [7, 8, 9]])\n",
        "my_adata = sc.AnnData(X=my_matrix)\n",
        "\n",
        "my_adata"
      ],
      "metadata": {
        "colab": {
          "base_uri": "https://localhost:8080/"
        },
        "id": "m4cGk0VU2sB1",
        "outputId": "aa733285-f3c8-43ca-f5c4-d1ed4453a062"
      },
      "execution_count": null,
      "outputs": [
        {
          "output_type": "execute_result",
          "data": {
            "text/plain": [
              "AnnData object with n_obs × n_vars = 3 × 3"
            ]
          },
          "metadata": {},
          "execution_count": 13
        }
      ]
    },
    {
      "cell_type": "code",
      "source": [
        "# DataFrame with cells' annotation\n",
        "adata.obs"
      ],
      "metadata": {
        "colab": {
          "base_uri": "https://localhost:8080/",
          "height": 426
        },
        "id": "E5JZg9zM2jh2",
        "outputId": "da676418-ed70-48d7-a63e-9f214d226825"
      },
      "execution_count": null,
      "outputs": [
        {
          "output_type": "execute_result",
          "data": {
            "text/plain": [
              "Empty DataFrame\n",
              "Columns: []\n",
              "Index: [AAACCCAAGGCCCAAA-1, AAACCCAAGTAATACG-1, AAACCCAAGTCACACT-1, AAACCCACAAAGCGTG-1, AAACCCACAATCGAAA-1, AAACCCACAGATCACT-1, AAACCCACATTGACCA-1, AAACCCAGTGAGCCAA-1, AAACCCAGTGATAGAT-1, AAACCCAGTGCCTGAC-1, AAACCCAGTGGTCTTA-1, AAACCCATCAGCCTCT-1, AAACGAAAGATGAATC-1, AAACGAACAGAATTCC-1, AAACGAACAGGATGAC-1, AAACGAAGTTACGCCG-1, AAACGAATCAACGAGG-1, AAACGAATCCGATAGT-1, AAACGAATCTCGACCT-1, AAACGCTAGCCTGACC-1, AAACGCTAGGACAAGA-1, AAACGCTAGGCCTTGC-1, AAACGCTCATACATCG-1, AAACGCTCATACGCAT-1, AAACGCTCATGAATCC-1, AAACGCTCATTCTGTT-1, AAACGCTGTCCATCTC-1, AAACGCTGTGAGCGAT-1, AAACGCTTCGACCACG-1, AAAGAACAGCATAGGC-1, AAAGAACAGCCTGAAG-1, AAAGAACAGGCCCGTT-1, AAAGAACCAAAGGGTC-1, AAAGAACCAGATCCTA-1, AAAGAACCAGGTTCGC-1, AAAGAACCATGGAGAC-1, AAAGAACGTCAAAGAT-1, AAAGAACTCGTGTCAA-1, AAAGGATAGAACAGGA-1, AAAGGATAGTGAGGCT-1, AAAGGATCAATGACCT-1, AAAGGATCACTACCGG-1, AAAGGATCACTAGTAC-1, AAAGGATGTCCTGGGT-1, AAAGGATGTGAGTAAT-1, AAAGGATGTGGGCTCT-1, AAAGGATGTTCCATTT-1, AAAGGATTCACGATCA-1, AAAGGATTCATTCATC-1, AAAGGATTCGGCGATC-1, AAAGGGCAGGCGACAT-1, AAAGGGCAGGGTAGCT-1, AAAGGGCCAGTAACGG-1, AAAGGGCGTACGAGTG-1, AAAGGGCGTCGAATGG-1, AAAGGGCTCACCCTCA-1, AAAGGGCTCACTGTTT-1, AAAGGGCTCCCGGTAG-1, AAAGGGCTCGCCAATA-1, AAAGGGCTCTTTGCTA-1, AAAGGTAAGCAAGTCG-1, AAAGGTAAGGGATGTC-1, AAAGGTAAGTAAACAC-1, AAAGGTAAGTTGCCCG-1, AAAGGTACAATACAGA-1, AAAGGTACACGCGTCA-1, AAAGGTACACTTACAG-1, AAAGGTACAGGAACCA-1, AAAGGTACATGGACAG-1, AAAGGTAGTCGCATGC-1, AAAGGTATCCGTGTCT-1, AAAGGTATCTCGTCAC-1, AAAGTCCAGCCATGCC-1, AAAGTCCAGCTACAAA-1, AAAGTCCCACCCATAA-1, AAAGTCCCACTACCCT-1, AAAGTCCCAGAGGCTA-1, AAAGTCCGTACGACAG-1, AAAGTCCTCGGATTAC-1, AAAGTGAAGACAGTCG-1, AAAGTGAAGAGCTGCA-1, AAAGTGAAGAGTGTGC-1, AAAGTGAAGATACGAT-1, AAAGTGAAGCCTCTTC-1, AAAGTGAAGCTTAGTC-1, AAAGTGAAGGTGCTTT-1, AAAGTGACAACGTATC-1, AAAGTGACAATAGGAT-1, AAAGTGACAATCGCAT-1, AAAGTGACATCGTGCG-1, AAAGTGACATTGCTTT-1, AAAGTGAGTTACCCTC-1, AAAGTGATCCAAGGGA-1, AAATGGAAGATCCGAG-1, AAATGGAAGATGAAGG-1, AAATGGACAACAAAGT-1, AAATGGACAATGTCTG-1, AAATGGACACGACCTG-1, AAATGGACAGATTTCG-1, AAATGGAGTACTGCGC-1, ...]\n",
              "\n",
              "[11996 rows x 0 columns]"
            ],
            "text/html": [
              "\n",
              "  <div id=\"df-14e596be-61f3-4a3c-ad68-ff82193630a2\" class=\"colab-df-container\">\n",
              "    <div>\n",
              "<style scoped>\n",
              "    .dataframe tbody tr th:only-of-type {\n",
              "        vertical-align: middle;\n",
              "    }\n",
              "\n",
              "    .dataframe tbody tr th {\n",
              "        vertical-align: top;\n",
              "    }\n",
              "\n",
              "    .dataframe thead th {\n",
              "        text-align: right;\n",
              "    }\n",
              "</style>\n",
              "<table border=\"1\" class=\"dataframe\">\n",
              "  <thead>\n",
              "    <tr style=\"text-align: right;\">\n",
              "      <th></th>\n",
              "    </tr>\n",
              "  </thead>\n",
              "  <tbody>\n",
              "    <tr>\n",
              "      <th>AAACCCAAGGCCCAAA-1</th>\n",
              "    </tr>\n",
              "    <tr>\n",
              "      <th>AAACCCAAGTAATACG-1</th>\n",
              "    </tr>\n",
              "    <tr>\n",
              "      <th>AAACCCAAGTCACACT-1</th>\n",
              "    </tr>\n",
              "    <tr>\n",
              "      <th>AAACCCACAAAGCGTG-1</th>\n",
              "    </tr>\n",
              "    <tr>\n",
              "      <th>AAACCCACAATCGAAA-1</th>\n",
              "    </tr>\n",
              "    <tr>\n",
              "      <th>...</th>\n",
              "    </tr>\n",
              "    <tr>\n",
              "      <th>TTTGTTGGTTGGATCT-1</th>\n",
              "    </tr>\n",
              "    <tr>\n",
              "      <th>TTTGTTGGTTTCTTAC-1</th>\n",
              "    </tr>\n",
              "    <tr>\n",
              "      <th>TTTGTTGTCCATTTCA-1</th>\n",
              "    </tr>\n",
              "    <tr>\n",
              "      <th>TTTGTTGTCTACACAG-1</th>\n",
              "    </tr>\n",
              "    <tr>\n",
              "      <th>TTTGTTGTCTCATTAC-1</th>\n",
              "    </tr>\n",
              "  </tbody>\n",
              "</table>\n",
              "<p>11996 rows × 0 columns</p>\n",
              "</div>\n",
              "    <div class=\"colab-df-buttons\">\n",
              "\n",
              "  <div class=\"colab-df-container\">\n",
              "    <button class=\"colab-df-convert\" onclick=\"convertToInteractive('df-14e596be-61f3-4a3c-ad68-ff82193630a2')\"\n",
              "            title=\"Convert this dataframe to an interactive table.\"\n",
              "            style=\"display:none;\">\n",
              "\n",
              "  <svg xmlns=\"http://www.w3.org/2000/svg\" height=\"24px\" viewBox=\"0 -960 960 960\">\n",
              "    <path d=\"M120-120v-720h720v720H120Zm60-500h600v-160H180v160Zm220 220h160v-160H400v160Zm0 220h160v-160H400v160ZM180-400h160v-160H180v160Zm440 0h160v-160H620v160ZM180-180h160v-160H180v160Zm440 0h160v-160H620v160Z\"/>\n",
              "  </svg>\n",
              "    </button>\n",
              "\n",
              "  <style>\n",
              "    .colab-df-container {\n",
              "      display:flex;\n",
              "      gap: 12px;\n",
              "    }\n",
              "\n",
              "    .colab-df-convert {\n",
              "      background-color: #E8F0FE;\n",
              "      border: none;\n",
              "      border-radius: 50%;\n",
              "      cursor: pointer;\n",
              "      display: none;\n",
              "      fill: #1967D2;\n",
              "      height: 32px;\n",
              "      padding: 0 0 0 0;\n",
              "      width: 32px;\n",
              "    }\n",
              "\n",
              "    .colab-df-convert:hover {\n",
              "      background-color: #E2EBFA;\n",
              "      box-shadow: 0px 1px 2px rgba(60, 64, 67, 0.3), 0px 1px 3px 1px rgba(60, 64, 67, 0.15);\n",
              "      fill: #174EA6;\n",
              "    }\n",
              "\n",
              "    .colab-df-buttons div {\n",
              "      margin-bottom: 4px;\n",
              "    }\n",
              "\n",
              "    [theme=dark] .colab-df-convert {\n",
              "      background-color: #3B4455;\n",
              "      fill: #D2E3FC;\n",
              "    }\n",
              "\n",
              "    [theme=dark] .colab-df-convert:hover {\n",
              "      background-color: #434B5C;\n",
              "      box-shadow: 0px 1px 3px 1px rgba(0, 0, 0, 0.15);\n",
              "      filter: drop-shadow(0px 1px 2px rgba(0, 0, 0, 0.3));\n",
              "      fill: #FFFFFF;\n",
              "    }\n",
              "  </style>\n",
              "\n",
              "    <script>\n",
              "      const buttonEl =\n",
              "        document.querySelector('#df-14e596be-61f3-4a3c-ad68-ff82193630a2 button.colab-df-convert');\n",
              "      buttonEl.style.display =\n",
              "        google.colab.kernel.accessAllowed ? 'block' : 'none';\n",
              "\n",
              "      async function convertToInteractive(key) {\n",
              "        const element = document.querySelector('#df-14e596be-61f3-4a3c-ad68-ff82193630a2');\n",
              "        const dataTable =\n",
              "          await google.colab.kernel.invokeFunction('convertToInteractive',\n",
              "                                                    [key], {});\n",
              "        if (!dataTable) return;\n",
              "\n",
              "        const docLinkHtml = 'Like what you see? Visit the ' +\n",
              "          '<a target=\"_blank\" href=https://colab.research.google.com/notebooks/data_table.ipynb>data table notebook</a>'\n",
              "          + ' to learn more about interactive tables.';\n",
              "        element.innerHTML = '';\n",
              "        dataTable['output_type'] = 'display_data';\n",
              "        await google.colab.output.renderOutput(dataTable, element);\n",
              "        const docLink = document.createElement('div');\n",
              "        docLink.innerHTML = docLinkHtml;\n",
              "        element.appendChild(docLink);\n",
              "      }\n",
              "    </script>\n",
              "  </div>\n",
              "\n",
              "\n",
              "<div id=\"df-c8c75474-7218-47c9-b2f9-337a694dcffa\">\n",
              "  <button class=\"colab-df-quickchart\" onclick=\"quickchart('df-c8c75474-7218-47c9-b2f9-337a694dcffa')\"\n",
              "            title=\"Suggest charts\"\n",
              "            style=\"display:none;\">\n",
              "\n",
              "<svg xmlns=\"http://www.w3.org/2000/svg\" height=\"24px\"viewBox=\"0 0 24 24\"\n",
              "     width=\"24px\">\n",
              "    <g>\n",
              "        <path d=\"M19 3H5c-1.1 0-2 .9-2 2v14c0 1.1.9 2 2 2h14c1.1 0 2-.9 2-2V5c0-1.1-.9-2-2-2zM9 17H7v-7h2v7zm4 0h-2V7h2v10zm4 0h-2v-4h2v4z\"/>\n",
              "    </g>\n",
              "</svg>\n",
              "  </button>\n",
              "\n",
              "<style>\n",
              "  .colab-df-quickchart {\n",
              "      --bg-color: #E8F0FE;\n",
              "      --fill-color: #1967D2;\n",
              "      --hover-bg-color: #E2EBFA;\n",
              "      --hover-fill-color: #174EA6;\n",
              "      --disabled-fill-color: #AAA;\n",
              "      --disabled-bg-color: #DDD;\n",
              "  }\n",
              "\n",
              "  [theme=dark] .colab-df-quickchart {\n",
              "      --bg-color: #3B4455;\n",
              "      --fill-color: #D2E3FC;\n",
              "      --hover-bg-color: #434B5C;\n",
              "      --hover-fill-color: #FFFFFF;\n",
              "      --disabled-bg-color: #3B4455;\n",
              "      --disabled-fill-color: #666;\n",
              "  }\n",
              "\n",
              "  .colab-df-quickchart {\n",
              "    background-color: var(--bg-color);\n",
              "    border: none;\n",
              "    border-radius: 50%;\n",
              "    cursor: pointer;\n",
              "    display: none;\n",
              "    fill: var(--fill-color);\n",
              "    height: 32px;\n",
              "    padding: 0;\n",
              "    width: 32px;\n",
              "  }\n",
              "\n",
              "  .colab-df-quickchart:hover {\n",
              "    background-color: var(--hover-bg-color);\n",
              "    box-shadow: 0 1px 2px rgba(60, 64, 67, 0.3), 0 1px 3px 1px rgba(60, 64, 67, 0.15);\n",
              "    fill: var(--button-hover-fill-color);\n",
              "  }\n",
              "\n",
              "  .colab-df-quickchart-complete:disabled,\n",
              "  .colab-df-quickchart-complete:disabled:hover {\n",
              "    background-color: var(--disabled-bg-color);\n",
              "    fill: var(--disabled-fill-color);\n",
              "    box-shadow: none;\n",
              "  }\n",
              "\n",
              "  .colab-df-spinner {\n",
              "    border: 2px solid var(--fill-color);\n",
              "    border-color: transparent;\n",
              "    border-bottom-color: var(--fill-color);\n",
              "    animation:\n",
              "      spin 1s steps(1) infinite;\n",
              "  }\n",
              "\n",
              "  @keyframes spin {\n",
              "    0% {\n",
              "      border-color: transparent;\n",
              "      border-bottom-color: var(--fill-color);\n",
              "      border-left-color: var(--fill-color);\n",
              "    }\n",
              "    20% {\n",
              "      border-color: transparent;\n",
              "      border-left-color: var(--fill-color);\n",
              "      border-top-color: var(--fill-color);\n",
              "    }\n",
              "    30% {\n",
              "      border-color: transparent;\n",
              "      border-left-color: var(--fill-color);\n",
              "      border-top-color: var(--fill-color);\n",
              "      border-right-color: var(--fill-color);\n",
              "    }\n",
              "    40% {\n",
              "      border-color: transparent;\n",
              "      border-right-color: var(--fill-color);\n",
              "      border-top-color: var(--fill-color);\n",
              "    }\n",
              "    60% {\n",
              "      border-color: transparent;\n",
              "      border-right-color: var(--fill-color);\n",
              "    }\n",
              "    80% {\n",
              "      border-color: transparent;\n",
              "      border-right-color: var(--fill-color);\n",
              "      border-bottom-color: var(--fill-color);\n",
              "    }\n",
              "    90% {\n",
              "      border-color: transparent;\n",
              "      border-bottom-color: var(--fill-color);\n",
              "    }\n",
              "  }\n",
              "</style>\n",
              "\n",
              "  <script>\n",
              "    async function quickchart(key) {\n",
              "      const quickchartButtonEl =\n",
              "        document.querySelector('#' + key + ' button');\n",
              "      quickchartButtonEl.disabled = true;  // To prevent multiple clicks.\n",
              "      quickchartButtonEl.classList.add('colab-df-spinner');\n",
              "      try {\n",
              "        const charts = await google.colab.kernel.invokeFunction(\n",
              "            'suggestCharts', [key], {});\n",
              "      } catch (error) {\n",
              "        console.error('Error during call to suggestCharts:', error);\n",
              "      }\n",
              "      quickchartButtonEl.classList.remove('colab-df-spinner');\n",
              "      quickchartButtonEl.classList.add('colab-df-quickchart-complete');\n",
              "    }\n",
              "    (() => {\n",
              "      let quickchartButtonEl =\n",
              "        document.querySelector('#df-c8c75474-7218-47c9-b2f9-337a694dcffa button');\n",
              "      quickchartButtonEl.style.display =\n",
              "        google.colab.kernel.accessAllowed ? 'block' : 'none';\n",
              "    })();\n",
              "  </script>\n",
              "</div>\n",
              "    </div>\n",
              "  </div>\n"
            ],
            "application/vnd.google.colaboratory.intrinsic+json": {
              "type": "dataframe",
              "summary": "{\n  \"name\": \"adata\",\n  \"rows\": 11996,\n  \"fields\": []\n}"
            }
          },
          "metadata": {},
          "execution_count": 14
        }
      ]
    },
    {
      "cell_type": "code",
      "source": [
        "adata.obs[\"tissue\"] = \"PBMC\"\n",
        "adata.obs"
      ],
      "metadata": {
        "colab": {
          "base_uri": "https://localhost:8080/",
          "height": 444
        },
        "id": "KGuIIkfVp8qM",
        "outputId": "40f7abf6-0cc2-42f3-dbfb-67763ed0b69e"
      },
      "execution_count": null,
      "outputs": [
        {
          "output_type": "execute_result",
          "data": {
            "text/plain": [
              "                   tissue\n",
              "AAACCCAAGGCCCAAA-1   PBMC\n",
              "AAACCCAAGTAATACG-1   PBMC\n",
              "AAACCCAAGTCACACT-1   PBMC\n",
              "AAACCCACAAAGCGTG-1   PBMC\n",
              "AAACCCACAATCGAAA-1   PBMC\n",
              "...                   ...\n",
              "TTTGTTGGTTGGATCT-1   PBMC\n",
              "TTTGTTGGTTTCTTAC-1   PBMC\n",
              "TTTGTTGTCCATTTCA-1   PBMC\n",
              "TTTGTTGTCTACACAG-1   PBMC\n",
              "TTTGTTGTCTCATTAC-1   PBMC\n",
              "\n",
              "[11996 rows x 1 columns]"
            ],
            "text/html": [
              "\n",
              "  <div id=\"df-45348e40-4a1c-447b-83b6-cbd146e65269\" class=\"colab-df-container\">\n",
              "    <div>\n",
              "<style scoped>\n",
              "    .dataframe tbody tr th:only-of-type {\n",
              "        vertical-align: middle;\n",
              "    }\n",
              "\n",
              "    .dataframe tbody tr th {\n",
              "        vertical-align: top;\n",
              "    }\n",
              "\n",
              "    .dataframe thead th {\n",
              "        text-align: right;\n",
              "    }\n",
              "</style>\n",
              "<table border=\"1\" class=\"dataframe\">\n",
              "  <thead>\n",
              "    <tr style=\"text-align: right;\">\n",
              "      <th></th>\n",
              "      <th>tissue</th>\n",
              "    </tr>\n",
              "  </thead>\n",
              "  <tbody>\n",
              "    <tr>\n",
              "      <th>AAACCCAAGGCCCAAA-1</th>\n",
              "      <td>PBMC</td>\n",
              "    </tr>\n",
              "    <tr>\n",
              "      <th>AAACCCAAGTAATACG-1</th>\n",
              "      <td>PBMC</td>\n",
              "    </tr>\n",
              "    <tr>\n",
              "      <th>AAACCCAAGTCACACT-1</th>\n",
              "      <td>PBMC</td>\n",
              "    </tr>\n",
              "    <tr>\n",
              "      <th>AAACCCACAAAGCGTG-1</th>\n",
              "      <td>PBMC</td>\n",
              "    </tr>\n",
              "    <tr>\n",
              "      <th>AAACCCACAATCGAAA-1</th>\n",
              "      <td>PBMC</td>\n",
              "    </tr>\n",
              "    <tr>\n",
              "      <th>...</th>\n",
              "      <td>...</td>\n",
              "    </tr>\n",
              "    <tr>\n",
              "      <th>TTTGTTGGTTGGATCT-1</th>\n",
              "      <td>PBMC</td>\n",
              "    </tr>\n",
              "    <tr>\n",
              "      <th>TTTGTTGGTTTCTTAC-1</th>\n",
              "      <td>PBMC</td>\n",
              "    </tr>\n",
              "    <tr>\n",
              "      <th>TTTGTTGTCCATTTCA-1</th>\n",
              "      <td>PBMC</td>\n",
              "    </tr>\n",
              "    <tr>\n",
              "      <th>TTTGTTGTCTACACAG-1</th>\n",
              "      <td>PBMC</td>\n",
              "    </tr>\n",
              "    <tr>\n",
              "      <th>TTTGTTGTCTCATTAC-1</th>\n",
              "      <td>PBMC</td>\n",
              "    </tr>\n",
              "  </tbody>\n",
              "</table>\n",
              "<p>11996 rows × 1 columns</p>\n",
              "</div>\n",
              "    <div class=\"colab-df-buttons\">\n",
              "\n",
              "  <div class=\"colab-df-container\">\n",
              "    <button class=\"colab-df-convert\" onclick=\"convertToInteractive('df-45348e40-4a1c-447b-83b6-cbd146e65269')\"\n",
              "            title=\"Convert this dataframe to an interactive table.\"\n",
              "            style=\"display:none;\">\n",
              "\n",
              "  <svg xmlns=\"http://www.w3.org/2000/svg\" height=\"24px\" viewBox=\"0 -960 960 960\">\n",
              "    <path d=\"M120-120v-720h720v720H120Zm60-500h600v-160H180v160Zm220 220h160v-160H400v160Zm0 220h160v-160H400v160ZM180-400h160v-160H180v160Zm440 0h160v-160H620v160ZM180-180h160v-160H180v160Zm440 0h160v-160H620v160Z\"/>\n",
              "  </svg>\n",
              "    </button>\n",
              "\n",
              "  <style>\n",
              "    .colab-df-container {\n",
              "      display:flex;\n",
              "      gap: 12px;\n",
              "    }\n",
              "\n",
              "    .colab-df-convert {\n",
              "      background-color: #E8F0FE;\n",
              "      border: none;\n",
              "      border-radius: 50%;\n",
              "      cursor: pointer;\n",
              "      display: none;\n",
              "      fill: #1967D2;\n",
              "      height: 32px;\n",
              "      padding: 0 0 0 0;\n",
              "      width: 32px;\n",
              "    }\n",
              "\n",
              "    .colab-df-convert:hover {\n",
              "      background-color: #E2EBFA;\n",
              "      box-shadow: 0px 1px 2px rgba(60, 64, 67, 0.3), 0px 1px 3px 1px rgba(60, 64, 67, 0.15);\n",
              "      fill: #174EA6;\n",
              "    }\n",
              "\n",
              "    .colab-df-buttons div {\n",
              "      margin-bottom: 4px;\n",
              "    }\n",
              "\n",
              "    [theme=dark] .colab-df-convert {\n",
              "      background-color: #3B4455;\n",
              "      fill: #D2E3FC;\n",
              "    }\n",
              "\n",
              "    [theme=dark] .colab-df-convert:hover {\n",
              "      background-color: #434B5C;\n",
              "      box-shadow: 0px 1px 3px 1px rgba(0, 0, 0, 0.15);\n",
              "      filter: drop-shadow(0px 1px 2px rgba(0, 0, 0, 0.3));\n",
              "      fill: #FFFFFF;\n",
              "    }\n",
              "  </style>\n",
              "\n",
              "    <script>\n",
              "      const buttonEl =\n",
              "        document.querySelector('#df-45348e40-4a1c-447b-83b6-cbd146e65269 button.colab-df-convert');\n",
              "      buttonEl.style.display =\n",
              "        google.colab.kernel.accessAllowed ? 'block' : 'none';\n",
              "\n",
              "      async function convertToInteractive(key) {\n",
              "        const element = document.querySelector('#df-45348e40-4a1c-447b-83b6-cbd146e65269');\n",
              "        const dataTable =\n",
              "          await google.colab.kernel.invokeFunction('convertToInteractive',\n",
              "                                                    [key], {});\n",
              "        if (!dataTable) return;\n",
              "\n",
              "        const docLinkHtml = 'Like what you see? Visit the ' +\n",
              "          '<a target=\"_blank\" href=https://colab.research.google.com/notebooks/data_table.ipynb>data table notebook</a>'\n",
              "          + ' to learn more about interactive tables.';\n",
              "        element.innerHTML = '';\n",
              "        dataTable['output_type'] = 'display_data';\n",
              "        await google.colab.output.renderOutput(dataTable, element);\n",
              "        const docLink = document.createElement('div');\n",
              "        docLink.innerHTML = docLinkHtml;\n",
              "        element.appendChild(docLink);\n",
              "      }\n",
              "    </script>\n",
              "  </div>\n",
              "\n",
              "\n",
              "<div id=\"df-9de404d6-34cf-4e23-ac96-dcb99dd1fdcc\">\n",
              "  <button class=\"colab-df-quickchart\" onclick=\"quickchart('df-9de404d6-34cf-4e23-ac96-dcb99dd1fdcc')\"\n",
              "            title=\"Suggest charts\"\n",
              "            style=\"display:none;\">\n",
              "\n",
              "<svg xmlns=\"http://www.w3.org/2000/svg\" height=\"24px\"viewBox=\"0 0 24 24\"\n",
              "     width=\"24px\">\n",
              "    <g>\n",
              "        <path d=\"M19 3H5c-1.1 0-2 .9-2 2v14c0 1.1.9 2 2 2h14c1.1 0 2-.9 2-2V5c0-1.1-.9-2-2-2zM9 17H7v-7h2v7zm4 0h-2V7h2v10zm4 0h-2v-4h2v4z\"/>\n",
              "    </g>\n",
              "</svg>\n",
              "  </button>\n",
              "\n",
              "<style>\n",
              "  .colab-df-quickchart {\n",
              "      --bg-color: #E8F0FE;\n",
              "      --fill-color: #1967D2;\n",
              "      --hover-bg-color: #E2EBFA;\n",
              "      --hover-fill-color: #174EA6;\n",
              "      --disabled-fill-color: #AAA;\n",
              "      --disabled-bg-color: #DDD;\n",
              "  }\n",
              "\n",
              "  [theme=dark] .colab-df-quickchart {\n",
              "      --bg-color: #3B4455;\n",
              "      --fill-color: #D2E3FC;\n",
              "      --hover-bg-color: #434B5C;\n",
              "      --hover-fill-color: #FFFFFF;\n",
              "      --disabled-bg-color: #3B4455;\n",
              "      --disabled-fill-color: #666;\n",
              "  }\n",
              "\n",
              "  .colab-df-quickchart {\n",
              "    background-color: var(--bg-color);\n",
              "    border: none;\n",
              "    border-radius: 50%;\n",
              "    cursor: pointer;\n",
              "    display: none;\n",
              "    fill: var(--fill-color);\n",
              "    height: 32px;\n",
              "    padding: 0;\n",
              "    width: 32px;\n",
              "  }\n",
              "\n",
              "  .colab-df-quickchart:hover {\n",
              "    background-color: var(--hover-bg-color);\n",
              "    box-shadow: 0 1px 2px rgba(60, 64, 67, 0.3), 0 1px 3px 1px rgba(60, 64, 67, 0.15);\n",
              "    fill: var(--button-hover-fill-color);\n",
              "  }\n",
              "\n",
              "  .colab-df-quickchart-complete:disabled,\n",
              "  .colab-df-quickchart-complete:disabled:hover {\n",
              "    background-color: var(--disabled-bg-color);\n",
              "    fill: var(--disabled-fill-color);\n",
              "    box-shadow: none;\n",
              "  }\n",
              "\n",
              "  .colab-df-spinner {\n",
              "    border: 2px solid var(--fill-color);\n",
              "    border-color: transparent;\n",
              "    border-bottom-color: var(--fill-color);\n",
              "    animation:\n",
              "      spin 1s steps(1) infinite;\n",
              "  }\n",
              "\n",
              "  @keyframes spin {\n",
              "    0% {\n",
              "      border-color: transparent;\n",
              "      border-bottom-color: var(--fill-color);\n",
              "      border-left-color: var(--fill-color);\n",
              "    }\n",
              "    20% {\n",
              "      border-color: transparent;\n",
              "      border-left-color: var(--fill-color);\n",
              "      border-top-color: var(--fill-color);\n",
              "    }\n",
              "    30% {\n",
              "      border-color: transparent;\n",
              "      border-left-color: var(--fill-color);\n",
              "      border-top-color: var(--fill-color);\n",
              "      border-right-color: var(--fill-color);\n",
              "    }\n",
              "    40% {\n",
              "      border-color: transparent;\n",
              "      border-right-color: var(--fill-color);\n",
              "      border-top-color: var(--fill-color);\n",
              "    }\n",
              "    60% {\n",
              "      border-color: transparent;\n",
              "      border-right-color: var(--fill-color);\n",
              "    }\n",
              "    80% {\n",
              "      border-color: transparent;\n",
              "      border-right-color: var(--fill-color);\n",
              "      border-bottom-color: var(--fill-color);\n",
              "    }\n",
              "    90% {\n",
              "      border-color: transparent;\n",
              "      border-bottom-color: var(--fill-color);\n",
              "    }\n",
              "  }\n",
              "</style>\n",
              "\n",
              "  <script>\n",
              "    async function quickchart(key) {\n",
              "      const quickchartButtonEl =\n",
              "        document.querySelector('#' + key + ' button');\n",
              "      quickchartButtonEl.disabled = true;  // To prevent multiple clicks.\n",
              "      quickchartButtonEl.classList.add('colab-df-spinner');\n",
              "      try {\n",
              "        const charts = await google.colab.kernel.invokeFunction(\n",
              "            'suggestCharts', [key], {});\n",
              "      } catch (error) {\n",
              "        console.error('Error during call to suggestCharts:', error);\n",
              "      }\n",
              "      quickchartButtonEl.classList.remove('colab-df-spinner');\n",
              "      quickchartButtonEl.classList.add('colab-df-quickchart-complete');\n",
              "    }\n",
              "    (() => {\n",
              "      let quickchartButtonEl =\n",
              "        document.querySelector('#df-9de404d6-34cf-4e23-ac96-dcb99dd1fdcc button');\n",
              "      quickchartButtonEl.style.display =\n",
              "        google.colab.kernel.accessAllowed ? 'block' : 'none';\n",
              "    })();\n",
              "  </script>\n",
              "</div>\n",
              "    </div>\n",
              "  </div>\n"
            ],
            "application/vnd.google.colaboratory.intrinsic+json": {
              "type": "dataframe",
              "summary": "{\n  \"name\": \"adata\",\n  \"rows\": 11996,\n  \"fields\": [\n    {\n      \"column\": \"tissue\",\n      \"properties\": {\n        \"dtype\": \"category\",\n        \"num_unique_values\": 1,\n        \"samples\": [\n          \"PBMC\"\n        ],\n        \"semantic_type\": \"\",\n        \"description\": \"\"\n      }\n    }\n  ]\n}"
            }
          },
          "metadata": {},
          "execution_count": 15
        }
      ]
    },
    {
      "cell_type": "code",
      "source": [
        "# Categorical Series\n",
        "\n",
        "adata.obs[\"tissue\"] = adata.obs.tissue.astype(\"category\")\n",
        "adata.obs.tissue"
      ],
      "metadata": {
        "colab": {
          "base_uri": "https://localhost:8080/"
        },
        "id": "eM32jA582ptr",
        "outputId": "686972c8-0e81-45a4-ca34-d5a30f14dd72"
      },
      "execution_count": null,
      "outputs": [
        {
          "output_type": "execute_result",
          "data": {
            "text/plain": [
              "AAACCCAAGGCCCAAA-1    PBMC\n",
              "AAACCCAAGTAATACG-1    PBMC\n",
              "AAACCCAAGTCACACT-1    PBMC\n",
              "AAACCCACAAAGCGTG-1    PBMC\n",
              "AAACCCACAATCGAAA-1    PBMC\n",
              "                      ... \n",
              "TTTGTTGGTTGGATCT-1    PBMC\n",
              "TTTGTTGGTTTCTTAC-1    PBMC\n",
              "TTTGTTGTCCATTTCA-1    PBMC\n",
              "TTTGTTGTCTACACAG-1    PBMC\n",
              "TTTGTTGTCTCATTAC-1    PBMC\n",
              "Name: tissue, Length: 11996, dtype: category\n",
              "Categories (1, object): ['PBMC']"
            ]
          },
          "metadata": {},
          "execution_count": 16
        }
      ]
    },
    {
      "cell_type": "code",
      "source": [
        "# DataFrame with genes' annotation\n",
        "\n",
        "del adata.var[\"genome\"], adata.var[\"feature_types\"]\n",
        "adata.var[\"mt\"] = adata.var.index.str.startswith(\"MT-\")\n",
        "adata.var"
      ],
      "metadata": {
        "colab": {
          "base_uri": "https://localhost:8080/",
          "height": 444
        },
        "id": "mObq5NwisQnk",
        "outputId": "5e56381f-b012-4bb1-aeea-97ab95d53676"
      },
      "execution_count": null,
      "outputs": [
        {
          "output_type": "execute_result",
          "data": {
            "text/plain": [
              "                    gene_ids     mt\n",
              "MIR1302-2HG  ENSG00000243485  False\n",
              "FAM138A      ENSG00000237613  False\n",
              "OR4F5        ENSG00000186092  False\n",
              "AL627309.1   ENSG00000238009  False\n",
              "AL627309.3   ENSG00000239945  False\n",
              "...                      ...    ...\n",
              "AC141272.1   ENSG00000277836  False\n",
              "AC023491.2   ENSG00000278633  False\n",
              "AC007325.1   ENSG00000276017  False\n",
              "AC007325.4   ENSG00000278817  False\n",
              "AC007325.2   ENSG00000277196  False\n",
              "\n",
              "[36601 rows x 2 columns]"
            ],
            "text/html": [
              "\n",
              "  <div id=\"df-c5768f18-59ee-46c8-a7a8-8d58477487d4\" class=\"colab-df-container\">\n",
              "    <div>\n",
              "<style scoped>\n",
              "    .dataframe tbody tr th:only-of-type {\n",
              "        vertical-align: middle;\n",
              "    }\n",
              "\n",
              "    .dataframe tbody tr th {\n",
              "        vertical-align: top;\n",
              "    }\n",
              "\n",
              "    .dataframe thead th {\n",
              "        text-align: right;\n",
              "    }\n",
              "</style>\n",
              "<table border=\"1\" class=\"dataframe\">\n",
              "  <thead>\n",
              "    <tr style=\"text-align: right;\">\n",
              "      <th></th>\n",
              "      <th>gene_ids</th>\n",
              "      <th>mt</th>\n",
              "    </tr>\n",
              "  </thead>\n",
              "  <tbody>\n",
              "    <tr>\n",
              "      <th>MIR1302-2HG</th>\n",
              "      <td>ENSG00000243485</td>\n",
              "      <td>False</td>\n",
              "    </tr>\n",
              "    <tr>\n",
              "      <th>FAM138A</th>\n",
              "      <td>ENSG00000237613</td>\n",
              "      <td>False</td>\n",
              "    </tr>\n",
              "    <tr>\n",
              "      <th>OR4F5</th>\n",
              "      <td>ENSG00000186092</td>\n",
              "      <td>False</td>\n",
              "    </tr>\n",
              "    <tr>\n",
              "      <th>AL627309.1</th>\n",
              "      <td>ENSG00000238009</td>\n",
              "      <td>False</td>\n",
              "    </tr>\n",
              "    <tr>\n",
              "      <th>AL627309.3</th>\n",
              "      <td>ENSG00000239945</td>\n",
              "      <td>False</td>\n",
              "    </tr>\n",
              "    <tr>\n",
              "      <th>...</th>\n",
              "      <td>...</td>\n",
              "      <td>...</td>\n",
              "    </tr>\n",
              "    <tr>\n",
              "      <th>AC141272.1</th>\n",
              "      <td>ENSG00000277836</td>\n",
              "      <td>False</td>\n",
              "    </tr>\n",
              "    <tr>\n",
              "      <th>AC023491.2</th>\n",
              "      <td>ENSG00000278633</td>\n",
              "      <td>False</td>\n",
              "    </tr>\n",
              "    <tr>\n",
              "      <th>AC007325.1</th>\n",
              "      <td>ENSG00000276017</td>\n",
              "      <td>False</td>\n",
              "    </tr>\n",
              "    <tr>\n",
              "      <th>AC007325.4</th>\n",
              "      <td>ENSG00000278817</td>\n",
              "      <td>False</td>\n",
              "    </tr>\n",
              "    <tr>\n",
              "      <th>AC007325.2</th>\n",
              "      <td>ENSG00000277196</td>\n",
              "      <td>False</td>\n",
              "    </tr>\n",
              "  </tbody>\n",
              "</table>\n",
              "<p>36601 rows × 2 columns</p>\n",
              "</div>\n",
              "    <div class=\"colab-df-buttons\">\n",
              "\n",
              "  <div class=\"colab-df-container\">\n",
              "    <button class=\"colab-df-convert\" onclick=\"convertToInteractive('df-c5768f18-59ee-46c8-a7a8-8d58477487d4')\"\n",
              "            title=\"Convert this dataframe to an interactive table.\"\n",
              "            style=\"display:none;\">\n",
              "\n",
              "  <svg xmlns=\"http://www.w3.org/2000/svg\" height=\"24px\" viewBox=\"0 -960 960 960\">\n",
              "    <path d=\"M120-120v-720h720v720H120Zm60-500h600v-160H180v160Zm220 220h160v-160H400v160Zm0 220h160v-160H400v160ZM180-400h160v-160H180v160Zm440 0h160v-160H620v160ZM180-180h160v-160H180v160Zm440 0h160v-160H620v160Z\"/>\n",
              "  </svg>\n",
              "    </button>\n",
              "\n",
              "  <style>\n",
              "    .colab-df-container {\n",
              "      display:flex;\n",
              "      gap: 12px;\n",
              "    }\n",
              "\n",
              "    .colab-df-convert {\n",
              "      background-color: #E8F0FE;\n",
              "      border: none;\n",
              "      border-radius: 50%;\n",
              "      cursor: pointer;\n",
              "      display: none;\n",
              "      fill: #1967D2;\n",
              "      height: 32px;\n",
              "      padding: 0 0 0 0;\n",
              "      width: 32px;\n",
              "    }\n",
              "\n",
              "    .colab-df-convert:hover {\n",
              "      background-color: #E2EBFA;\n",
              "      box-shadow: 0px 1px 2px rgba(60, 64, 67, 0.3), 0px 1px 3px 1px rgba(60, 64, 67, 0.15);\n",
              "      fill: #174EA6;\n",
              "    }\n",
              "\n",
              "    .colab-df-buttons div {\n",
              "      margin-bottom: 4px;\n",
              "    }\n",
              "\n",
              "    [theme=dark] .colab-df-convert {\n",
              "      background-color: #3B4455;\n",
              "      fill: #D2E3FC;\n",
              "    }\n",
              "\n",
              "    [theme=dark] .colab-df-convert:hover {\n",
              "      background-color: #434B5C;\n",
              "      box-shadow: 0px 1px 3px 1px rgba(0, 0, 0, 0.15);\n",
              "      filter: drop-shadow(0px 1px 2px rgba(0, 0, 0, 0.3));\n",
              "      fill: #FFFFFF;\n",
              "    }\n",
              "  </style>\n",
              "\n",
              "    <script>\n",
              "      const buttonEl =\n",
              "        document.querySelector('#df-c5768f18-59ee-46c8-a7a8-8d58477487d4 button.colab-df-convert');\n",
              "      buttonEl.style.display =\n",
              "        google.colab.kernel.accessAllowed ? 'block' : 'none';\n",
              "\n",
              "      async function convertToInteractive(key) {\n",
              "        const element = document.querySelector('#df-c5768f18-59ee-46c8-a7a8-8d58477487d4');\n",
              "        const dataTable =\n",
              "          await google.colab.kernel.invokeFunction('convertToInteractive',\n",
              "                                                    [key], {});\n",
              "        if (!dataTable) return;\n",
              "\n",
              "        const docLinkHtml = 'Like what you see? Visit the ' +\n",
              "          '<a target=\"_blank\" href=https://colab.research.google.com/notebooks/data_table.ipynb>data table notebook</a>'\n",
              "          + ' to learn more about interactive tables.';\n",
              "        element.innerHTML = '';\n",
              "        dataTable['output_type'] = 'display_data';\n",
              "        await google.colab.output.renderOutput(dataTable, element);\n",
              "        const docLink = document.createElement('div');\n",
              "        docLink.innerHTML = docLinkHtml;\n",
              "        element.appendChild(docLink);\n",
              "      }\n",
              "    </script>\n",
              "  </div>\n",
              "\n",
              "\n",
              "<div id=\"df-2825e2a5-b2e8-49f6-81cc-9f2ae36796a7\">\n",
              "  <button class=\"colab-df-quickchart\" onclick=\"quickchart('df-2825e2a5-b2e8-49f6-81cc-9f2ae36796a7')\"\n",
              "            title=\"Suggest charts\"\n",
              "            style=\"display:none;\">\n",
              "\n",
              "<svg xmlns=\"http://www.w3.org/2000/svg\" height=\"24px\"viewBox=\"0 0 24 24\"\n",
              "     width=\"24px\">\n",
              "    <g>\n",
              "        <path d=\"M19 3H5c-1.1 0-2 .9-2 2v14c0 1.1.9 2 2 2h14c1.1 0 2-.9 2-2V5c0-1.1-.9-2-2-2zM9 17H7v-7h2v7zm4 0h-2V7h2v10zm4 0h-2v-4h2v4z\"/>\n",
              "    </g>\n",
              "</svg>\n",
              "  </button>\n",
              "\n",
              "<style>\n",
              "  .colab-df-quickchart {\n",
              "      --bg-color: #E8F0FE;\n",
              "      --fill-color: #1967D2;\n",
              "      --hover-bg-color: #E2EBFA;\n",
              "      --hover-fill-color: #174EA6;\n",
              "      --disabled-fill-color: #AAA;\n",
              "      --disabled-bg-color: #DDD;\n",
              "  }\n",
              "\n",
              "  [theme=dark] .colab-df-quickchart {\n",
              "      --bg-color: #3B4455;\n",
              "      --fill-color: #D2E3FC;\n",
              "      --hover-bg-color: #434B5C;\n",
              "      --hover-fill-color: #FFFFFF;\n",
              "      --disabled-bg-color: #3B4455;\n",
              "      --disabled-fill-color: #666;\n",
              "  }\n",
              "\n",
              "  .colab-df-quickchart {\n",
              "    background-color: var(--bg-color);\n",
              "    border: none;\n",
              "    border-radius: 50%;\n",
              "    cursor: pointer;\n",
              "    display: none;\n",
              "    fill: var(--fill-color);\n",
              "    height: 32px;\n",
              "    padding: 0;\n",
              "    width: 32px;\n",
              "  }\n",
              "\n",
              "  .colab-df-quickchart:hover {\n",
              "    background-color: var(--hover-bg-color);\n",
              "    box-shadow: 0 1px 2px rgba(60, 64, 67, 0.3), 0 1px 3px 1px rgba(60, 64, 67, 0.15);\n",
              "    fill: var(--button-hover-fill-color);\n",
              "  }\n",
              "\n",
              "  .colab-df-quickchart-complete:disabled,\n",
              "  .colab-df-quickchart-complete:disabled:hover {\n",
              "    background-color: var(--disabled-bg-color);\n",
              "    fill: var(--disabled-fill-color);\n",
              "    box-shadow: none;\n",
              "  }\n",
              "\n",
              "  .colab-df-spinner {\n",
              "    border: 2px solid var(--fill-color);\n",
              "    border-color: transparent;\n",
              "    border-bottom-color: var(--fill-color);\n",
              "    animation:\n",
              "      spin 1s steps(1) infinite;\n",
              "  }\n",
              "\n",
              "  @keyframes spin {\n",
              "    0% {\n",
              "      border-color: transparent;\n",
              "      border-bottom-color: var(--fill-color);\n",
              "      border-left-color: var(--fill-color);\n",
              "    }\n",
              "    20% {\n",
              "      border-color: transparent;\n",
              "      border-left-color: var(--fill-color);\n",
              "      border-top-color: var(--fill-color);\n",
              "    }\n",
              "    30% {\n",
              "      border-color: transparent;\n",
              "      border-left-color: var(--fill-color);\n",
              "      border-top-color: var(--fill-color);\n",
              "      border-right-color: var(--fill-color);\n",
              "    }\n",
              "    40% {\n",
              "      border-color: transparent;\n",
              "      border-right-color: var(--fill-color);\n",
              "      border-top-color: var(--fill-color);\n",
              "    }\n",
              "    60% {\n",
              "      border-color: transparent;\n",
              "      border-right-color: var(--fill-color);\n",
              "    }\n",
              "    80% {\n",
              "      border-color: transparent;\n",
              "      border-right-color: var(--fill-color);\n",
              "      border-bottom-color: var(--fill-color);\n",
              "    }\n",
              "    90% {\n",
              "      border-color: transparent;\n",
              "      border-bottom-color: var(--fill-color);\n",
              "    }\n",
              "  }\n",
              "</style>\n",
              "\n",
              "  <script>\n",
              "    async function quickchart(key) {\n",
              "      const quickchartButtonEl =\n",
              "        document.querySelector('#' + key + ' button');\n",
              "      quickchartButtonEl.disabled = true;  // To prevent multiple clicks.\n",
              "      quickchartButtonEl.classList.add('colab-df-spinner');\n",
              "      try {\n",
              "        const charts = await google.colab.kernel.invokeFunction(\n",
              "            'suggestCharts', [key], {});\n",
              "      } catch (error) {\n",
              "        console.error('Error during call to suggestCharts:', error);\n",
              "      }\n",
              "      quickchartButtonEl.classList.remove('colab-df-spinner');\n",
              "      quickchartButtonEl.classList.add('colab-df-quickchart-complete');\n",
              "    }\n",
              "    (() => {\n",
              "      let quickchartButtonEl =\n",
              "        document.querySelector('#df-2825e2a5-b2e8-49f6-81cc-9f2ae36796a7 button');\n",
              "      quickchartButtonEl.style.display =\n",
              "        google.colab.kernel.accessAllowed ? 'block' : 'none';\n",
              "    })();\n",
              "  </script>\n",
              "</div>\n",
              "    </div>\n",
              "  </div>\n"
            ],
            "application/vnd.google.colaboratory.intrinsic+json": {
              "type": "dataframe",
              "summary": "{\n  \"name\": \"adata\",\n  \"rows\": 36601,\n  \"fields\": [\n    {\n      \"column\": \"gene_ids\",\n      \"properties\": {\n        \"dtype\": \"string\",\n        \"num_unique_values\": 36601,\n        \"samples\": [\n          \"ENSG00000232112\",\n          \"ENSG00000228474\",\n          \"ENSG00000277448\"\n        ],\n        \"semantic_type\": \"\",\n        \"description\": \"\"\n      }\n    },\n    {\n      \"column\": \"mt\",\n      \"properties\": {\n        \"dtype\": \"boolean\",\n        \"num_unique_values\": 2,\n        \"samples\": [\n          true,\n          false\n        ],\n        \"semantic_type\": \"\",\n        \"description\": \"\"\n      }\n    }\n  ]\n}"
            }
          },
          "metadata": {},
          "execution_count": 30
        }
      ]
    },
    {
      "cell_type": "code",
      "source": [
        "# Embeddings plotting\n",
        "\n",
        "adata.obsm[\"my_embedding\"] = np.random.normal(size=(11996, 2))\n",
        "adata.obs[\"cluster\"] = [\"1\" if i else \"2\" for i in (adata.obsm[\"my_embedding\"][:, 0] < 0)]\n",
        "\n",
        "sc.pl.embedding(adata, basis=\"my_embedding\", color=\"cluster\")"
      ],
      "metadata": {
        "id": "ppUzijpEtWy5",
        "colab": {
          "base_uri": "https://localhost:8080/",
          "height": 469
        },
        "outputId": "a566399b-4165-48ee-fb1f-4f1f7508bb22"
      },
      "execution_count": null,
      "outputs": [
        {
          "output_type": "display_data",
          "data": {
            "text/plain": [
              "<Figure size 640x480 with 1 Axes>"
            ],
            "image/png": "[encoded data removed]"
          },
          "metadata": {}
        }
      ]
    },
    {
      "cell_type": "code",
      "source": [
        "# Subselection in AnnData objects\n",
        "\n",
        "adata[[\"TTTGTTGTCTCATTAC-1\", \"TTTGTTGGTTGGATCT-1\"], [\"CD4\", \"CD8A\"]]"
      ],
      "metadata": {
        "colab": {
          "base_uri": "https://localhost:8080/"
        },
        "id": "ngUS3E633Hqm",
        "outputId": "4861a2d3-77a7-439e-af4a-6168afd3ff50"
      },
      "execution_count": null,
      "outputs": [
        {
          "output_type": "execute_result",
          "data": {
            "text/plain": [
              "View of AnnData object with n_obs × n_vars = 2 × 2\n",
              "    obs: 'tissue', 'cluster'\n",
              "    var: 'gene_ids', 'mt'\n",
              "    uns: 'tissue_colors', 'cluster_colors'\n",
              "    obsm: 'my_embedding'"
            ]
          },
          "metadata": {},
          "execution_count": 48
        }
      ]
    },
    {
      "cell_type": "code",
      "source": [
        "# Layers in AnnData object\n",
        "\n",
        "adata.layers[\"counts\"] = adata.X.copy()\n",
        "adata.layers[\"counts\"]"
      ],
      "metadata": {
        "colab": {
          "base_uri": "https://localhost:8080/"
        },
        "id": "MHWXuVEJRyRi",
        "outputId": "0b82178c-47cb-4e7f-b031-21ffa82e7d20"
      },
      "execution_count": null,
      "outputs": [
        {
          "output_type": "execute_result",
          "data": {
            "text/plain": [
              "<11996x36601 sparse matrix of type '<class 'numpy.float32'>'\n",
              "\twith 27164608 stored elements in Compressed Sparse Row format>"
            ]
          },
          "metadata": {},
          "execution_count": 72
        }
      ]
    },
    {
      "cell_type": "code",
      "source": [
        "# Saving AnnData object\n",
        "\n",
        "adata.write_h5ad(\"adata.h5ad\")"
      ],
      "metadata": {
        "id": "skx6nuR4vJmB"
      },
      "execution_count": null,
      "outputs": []
    },
    {
      "cell_type": "markdown",
      "source": [
        "## Diagnostic plots for cells' QC"
      ],
      "metadata": {
        "id": "ALrxCLvj4_II"
      }
    },
    {
      "cell_type": "code",
      "source": [
        "# UMI per cell distribution\n",
        "\n",
        "counts_per_cell = adata.X.sum(axis=1).A.T[0]\n",
        "sns.histplot(counts_per_cell)"
      ],
      "metadata": {
        "id": "IHp-_Dl75Bhr",
        "colab": {
          "base_uri": "https://localhost:8080/",
          "height": 468
        },
        "outputId": "0116a2d0-baeb-414e-ccd6-9c19377f2f20"
      },
      "execution_count": null,
      "outputs": [
        {
          "output_type": "execute_result",
          "data": {
            "text/plain": [
              "<Axes: ylabel='Count'>"
            ]
          },
          "metadata": {},
          "execution_count": 60
        },
        {
          "output_type": "display_data",
          "data": {
            "text/plain": [
              "<Figure size 640x480 with 1 Axes>"
            ],
            "image/png": "[encoded data removed]"
          },
          "metadata": {}
        }
      ]
    },
    {
      "cell_type": "code",
      "source": [
        "# Number of genes per cell distribution\n",
        "\n",
        "genes_per_cell = (adata.X > 0).sum(axis=1).T.A[0]\n",
        "sns.histplot(genes_per_cell)"
      ],
      "metadata": {
        "colab": {
          "base_uri": "https://localhost:8080/",
          "height": 468
        },
        "id": "3KpMGPUm3X2W",
        "outputId": "2cdf3fb9-7c44-4254-9ea6-1d6b409885f9"
      },
      "execution_count": null,
      "outputs": [
        {
          "output_type": "execute_result",
          "data": {
            "text/plain": [
              "<Axes: ylabel='Count'>"
            ]
          },
          "metadata": {},
          "execution_count": 62
        },
        {
          "output_type": "display_data",
          "data": {
            "text/plain": [
              "<Figure size 640x480 with 1 Axes>"
            ],
            "image/png": "[encoded data removed]"
          },
          "metadata": {}
        }
      ]
    },
    {
      "cell_type": "code",
      "source": [
        "# % of mitochondrial expression per each cell distribution\n",
        "\n",
        "mito_counts = adata[:, adata.var[\"mt\"]].X.sum(axis=1).T.A[0]\n",
        "mito_pct = mito_counts / counts_per_cell * 100\n",
        "sns.histplot(mito_pct, bins=50)"
      ],
      "metadata": {
        "colab": {
          "base_uri": "https://localhost:8080/",
          "height": 468
        },
        "id": "kgf7r-JfQ1yw",
        "outputId": "27cd9108-51d2-486f-adc4-d69e4f5d97b0"
      },
      "execution_count": null,
      "outputs": [
        {
          "output_type": "execute_result",
          "data": {
            "text/plain": [
              "<Axes: ylabel='Count'>"
            ]
          },
          "metadata": {},
          "execution_count": 68
        },
        {
          "output_type": "display_data",
          "data": {
            "text/plain": [
              "<Figure size 640x480 with 1 Axes>"
            ],
            "image/png": "[encoded data removed]"
          },
          "metadata": {}
        }
      ]
    },
    {
      "cell_type": "markdown",
      "source": [
        "# Hometask"
      ],
      "metadata": {
        "id": "npytM_CFCLVp"
      }
    },
    {
      "cell_type": "markdown",
      "source": [
        "## Task 1\n",
        "\n",
        "Number of UMIs per cell in the dataset is distributed (approximately) bimodally. What is the reason for that? Please provide some papers and/or resourses when this phenomenon is described."
      ],
      "metadata": {
        "id": "wLRD9CFGsPUh"
      }
    },
    {
      "cell_type": "markdown",
      "source": [
        "Бимодальное распределение количества UMI на ячейку в наборе данных может быть обусловлено несколькими факторами, связанными с процессом секвенирования и обработкой данных. Одной из основных причин такого распределения является наличие шума или фонового сигнала, который смешивается с реальными данными о клетках. Это может происходить из-за случайных совпадений баркодов или присутствия нежелательных молекул в образцах.\n",
        "\n",
        "В контексте анализа данных с использованием технологий одноклеточной секвенирования, таких как те, что предлагаются компанией 10x Genomics, бимодальное распределение часто наблюдается при анализе количества UMI (Unique Molecular Identifiers) на ячейку. Левый пик в таком распределении обычно соответствует фону или шуму, в то время как правый пик представляет собой сигнал от реальных клеток. Этот феномен описывается в документации 10x Genomics, где указано, что идеально должно быть четкое разделение между тегами CMO (Cellular Indexing Tag) по количеству UMI, что позволяет отличать реальные клетки от фона"
      ],
      "metadata": {
        "id": "iSqdlY1jsrRd"
      }
    },
    {
      "cell_type": "markdown",
      "source": [
        "*   Документация 10x Genomics по анализу качества с использованием веб-сводки Cell Ranger.\n",
        "*   Техническая заметка 10x Genomics по интерпретации файлов веб-сводки Cell Ranger Multi для одноклеточного 3' ГЭ с технологией Feature Barcode для мультиплексирования клеток."
      ],
      "metadata": {
        "id": "EfnPfXc7s2va"
      }
    },
    {
      "cell_type": "markdown",
      "source": [
        "## Task 2\n",
        "\n",
        "Using [Cellxgene Portal](https://cellxgene.cziscience.com/) please select the dataset of your scientific interest and perform QC. Are you happy with it? Please save files in `loom` format and describe the features of such a format."
      ],
      "metadata": {
        "id": "sveU7TybseS8"
      }
    },
    {
      "cell_type": "code",
      "source": [
        "pip install cellxgene loompy\n",
        "import cellxgene as cxg\n",
        "\n",
        "adata = cxg.read('example_dataset.h5ad')\n",
        "threshold = 1000\n",
        "adata = adata[:, adata.X.sum(axis=1) > threshold]\n",
        "\n",
        "import loompy\n",
        "\n",
        "loom_file_path = 'processed_dataset.loom'\n",
        "\n",
        "with loompy.create(loom_file_path, adata.shape[1], adata.var_names.values) as ds:\n",
        "    # Write genes\n",
        "    ds.genes = adata.var_names.values\n",
        "    # Write cells\n",
        "    ds.cells = adata.obs.index\n",
        "    # Write expression matrix\n",
        "    ds.matrix = adata.X.todense()\n",
        "    # Optionally, write additional annotations\n",
        "    ds.layers['normalized'] = adata.X.norm().todense()"
      ],
      "metadata": {
        "id": "aIWiBca8tsR1"
      },
      "execution_count": null,
      "outputs": []
    }
  ]
}